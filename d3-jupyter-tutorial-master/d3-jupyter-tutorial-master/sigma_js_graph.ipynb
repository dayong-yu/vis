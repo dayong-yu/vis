{
 "cells": [
  {
   "cell_type": "markdown",
   "metadata": {},
   "source": [
    "# Network Diagram with Sigma.js"
   ]
  },
  {
   "cell_type": "markdown",
   "metadata": {},
   "source": [
    "This example uses [sigma.js](http://sigmajs.org/) to visualize a network produced in python."
   ]
  },
  {
   "cell_type": "markdown",
   "metadata": {},
   "source": [
    "#### Notebook Config"
   ]
  },
  {
   "cell_type": "code",
   "execution_count": 1,
   "metadata": {
    "collapsed": true
   },
   "outputs": [],
   "source": [
    "from IPython.core.display import display, HTML\n",
    "from string import Template\n",
    "import pandas as pd\n",
    "import json, random"
   ]
  },
  {
   "cell_type": "code",
   "execution_count": 2,
   "metadata": {
    "collapsed": false
   },
   "outputs": [
    {
     "data": {
      "text/html": [
       "\n",
       "<script src=\"lib/sigmajs/sigma.min.js\"></script>\n",
       "<script src=\"js/sigma-add-method-neighbors.js\"></script>\n"
      ],
      "text/plain": [
       "<IPython.core.display.HTML object>"
      ]
     },
     "execution_count": 2,
     "metadata": {},
     "output_type": "execute_result"
    }
   ],
   "source": [
    "HTML('''\n",
    "<script src=\"lib/sigmajs/sigma.min.js\"></script>\n",
    "<script src=\"js/sigma-add-method-neighbors.js\"></script>\n",
    "''')"
   ]
  },
  {
   "cell_type": "markdown",
   "metadata": {},
   "source": [
    "#### Network Construction"
   ]
  },
  {
   "cell_type": "code",
   "execution_count": 3,
   "metadata": {
    "collapsed": true
   },
   "outputs": [],
   "source": [
    "random.seed(42)\n",
    "\n",
    "n_nodes = 40\n",
    "n_edges = 200\n",
    "\n",
    "graph_data = { 'nodes': [], 'edges': [] }\n",
    "\n",
    "for i in range(n_nodes):\n",
    "    graph_data['nodes'].append({\n",
    "            \"id\": \"n\" + str(i),\n",
    "            \"label\": \"n\" + str(i),\n",
    "            \"x\": random.uniform(0,1),\n",
    "            \"y\": random.uniform(0,1),\n",
    "            \"size\": random.uniform(0.2,1)\n",
    "        })\n",
    "\n",
    "for j in range(n_edges):\n",
    "    x_center = random.uniform(0,1)\n",
    "    y_center = random.uniform(0,1)\n",
    "    x_dist = random.uniform(0.1,0.5)\n",
    "    y_dist = random.uniform(0.2,0.5)\n",
    "    neighborhood = []\n",
    "    for node in graph_data['nodes']:\n",
    "        if abs(node['x'] - x_center) < x_dist:\n",
    "            if abs(node['y'] - y_center) < y_dist:\n",
    "                neighborhood.append(int(node['id'].replace('n','')))\n",
    "    if len(neighborhood) >= 2:\n",
    "        ends = random.sample(neighborhood,2)\n",
    "        graph_data['edges'].append({\n",
    "                \"id\": \"e\" + str(j),\n",
    "                \"source\": \"n\" + str(ends[0]),\n",
    "                \"target\": \"n\" + str(ends[1])\n",
    "            })"
   ]
  },
  {
   "cell_type": "code",
   "execution_count": 4,
   "metadata": {
    "collapsed": false
   },
   "outputs": [
    {
     "data": {
      "text/html": [
       "<div>\n",
       "<table border=\"1\" class=\"dataframe\">\n",
       "  <thead>\n",
       "    <tr style=\"text-align: right;\">\n",
       "      <th></th>\n",
       "      <th>id</th>\n",
       "      <th>label</th>\n",
       "      <th>size</th>\n",
       "      <th>x</th>\n",
       "      <th>y</th>\n",
       "    </tr>\n",
       "  </thead>\n",
       "  <tbody>\n",
       "    <tr>\n",
       "      <th>0</th>\n",
       "      <td>n0</td>\n",
       "      <td>n0</td>\n",
       "      <td>0.420023</td>\n",
       "      <td>0.639427</td>\n",
       "      <td>0.025011</td>\n",
       "    </tr>\n",
       "    <tr>\n",
       "      <th>1</th>\n",
       "      <td>n1</td>\n",
       "      <td>n1</td>\n",
       "      <td>0.741360</td>\n",
       "      <td>0.223211</td>\n",
       "      <td>0.736471</td>\n",
       "    </tr>\n",
       "    <tr>\n",
       "      <th>2</th>\n",
       "      <td>n2</td>\n",
       "      <td>n2</td>\n",
       "      <td>0.537537</td>\n",
       "      <td>0.892180</td>\n",
       "      <td>0.086939</td>\n",
       "    </tr>\n",
       "    <tr>\n",
       "      <th>3</th>\n",
       "      <td>n3</td>\n",
       "      <td>n3</td>\n",
       "      <td>0.604284</td>\n",
       "      <td>0.029797</td>\n",
       "      <td>0.218638</td>\n",
       "    </tr>\n",
       "    <tr>\n",
       "      <th>4</th>\n",
       "      <td>n4</td>\n",
       "      <td>n4</td>\n",
       "      <td>0.719908</td>\n",
       "      <td>0.026536</td>\n",
       "      <td>0.198838</td>\n",
       "    </tr>\n",
       "  </tbody>\n",
       "</table>\n",
       "</div>"
      ],
      "text/plain": [
       "   id label      size         x         y\n",
       "0  n0    n0  0.420023  0.639427  0.025011\n",
       "1  n1    n1  0.741360  0.223211  0.736471\n",
       "2  n2    n2  0.537537  0.892180  0.086939\n",
       "3  n3    n3  0.604284  0.029797  0.218638\n",
       "4  n4    n4  0.719908  0.026536  0.198838"
      ]
     },
     "execution_count": 4,
     "metadata": {},
     "output_type": "execute_result"
    }
   ],
   "source": [
    "pd.DataFrame(graph_data['nodes']).head()"
   ]
  },
  {
   "cell_type": "code",
   "execution_count": 5,
   "metadata": {
    "collapsed": false
   },
   "outputs": [
    {
     "data": {
      "text/html": [
       "<div>\n",
       "<table border=\"1\" class=\"dataframe\">\n",
       "  <thead>\n",
       "    <tr style=\"text-align: right;\">\n",
       "      <th></th>\n",
       "      <th>id</th>\n",
       "      <th>source</th>\n",
       "      <th>target</th>\n",
       "    </tr>\n",
       "  </thead>\n",
       "  <tbody>\n",
       "    <tr>\n",
       "      <th>0</th>\n",
       "      <td>e0</td>\n",
       "      <td>n5</td>\n",
       "      <td>n21</td>\n",
       "    </tr>\n",
       "    <tr>\n",
       "      <th>1</th>\n",
       "      <td>e1</td>\n",
       "      <td>n35</td>\n",
       "      <td>n19</td>\n",
       "    </tr>\n",
       "    <tr>\n",
       "      <th>2</th>\n",
       "      <td>e2</td>\n",
       "      <td>n31</td>\n",
       "      <td>n23</td>\n",
       "    </tr>\n",
       "    <tr>\n",
       "      <th>3</th>\n",
       "      <td>e3</td>\n",
       "      <td>n38</td>\n",
       "      <td>n21</td>\n",
       "    </tr>\n",
       "    <tr>\n",
       "      <th>4</th>\n",
       "      <td>e4</td>\n",
       "      <td>n36</td>\n",
       "      <td>n9</td>\n",
       "    </tr>\n",
       "  </tbody>\n",
       "</table>\n",
       "</div>"
      ],
      "text/plain": [
       "   id source target\n",
       "0  e0     n5    n21\n",
       "1  e1    n35    n19\n",
       "2  e2    n31    n23\n",
       "3  e3    n38    n21\n",
       "4  e4    n36     n9"
      ]
     },
     "execution_count": 5,
     "metadata": {},
     "output_type": "execute_result"
    }
   ],
   "source": [
    "pd.DataFrame(graph_data['edges']).head()"
   ]
  },
  {
   "cell_type": "markdown",
   "metadata": {},
   "source": [
    "#### Visualization"
   ]
  },
  {
   "cell_type": "code",
   "execution_count": 6,
   "metadata": {
    "collapsed": false
   },
   "outputs": [
    {
     "data": {
      "text/html": [
       "\n",
       "<div id=\"graph-div\" style=\"height:400px\"></div>\n",
       "<script> var g = {\"nodes\": [{\"label\": \"n0\", \"size\": 0.42002345469529545, \"x\": 0.6394267984578837, \"y\": 0.025010755222666936, \"id\": \"n0\"}, {\"label\": \"n1\", \"size\": 0.7413595899383292, \"x\": 0.22321073814882275, \"y\": 0.7364712141640124, \"id\": \"n1\"}, {\"label\": \"n2\", \"size\": 0.5375374557482164, \"x\": 0.8921795677048454, \"y\": 0.08693883262941615, \"id\": \"n2\"}, {\"label\": \"n3\", \"size\": 0.6042842304826899, \"x\": 0.029797219438070344, \"y\": 0.21863797480360336, \"id\": \"n3\"}, {\"label\": \"n4\", \"size\": 0.7199075502236185, \"x\": 0.026535969683863625, \"y\": 0.1988376506866485, \"id\": \"n4\"}, {\"label\": \"n5\", \"size\": 0.6714125471007271, \"x\": 0.5449414806032167, \"y\": 0.2204406220406967, \"id\": \"n5\"}, {\"label\": \"n6\", \"size\": 0.8446554014662464, \"x\": 0.8094304566778266, \"y\": 0.006498759678061017, \"id\": \"n6\"}, {\"label\": \"n7\", \"size\": 0.3243835998494253, \"x\": 0.6981393949882269, \"y\": 0.3402505165179919, \"id\": \"n7\"}, {\"label\": \"n8\", \"size\": 0.27419667470411835, \"x\": 0.9572130722067812, \"y\": 0.33659454511262676, \"id\": \"n8\"}, {\"label\": \"n9\", \"size\": 0.6829808250935129, \"x\": 0.09671637683346401, \"y\": 0.8474943663474598, \"id\": \"n9\"}, {\"label\": \"n10\", \"size\": 0.6289824731637605, \"x\": 0.8071282732743802, \"y\": 0.7297317866938179, \"id\": \"n10\"}, {\"label\": \"n11\", \"size\": 0.6416325050185816, \"x\": 0.9731157639793706, \"y\": 0.3785343772083535, \"id\": \"n11\"}, {\"label\": \"n12\", \"size\": 0.8893655202486219, \"x\": 0.8294046642529949, \"y\": 0.6185197523642461, \"id\": \"n12\"}, {\"label\": \"n13\", \"size\": 0.23665950692452978, \"x\": 0.577352145256762, \"y\": 0.7045718362149235, \"id\": \"n13\"}, {\"label\": \"n14\", \"size\": 0.263833581538902, \"x\": 0.22789827565154686, \"y\": 0.28938796360210717, \"id\": \"n14\"}, {\"label\": \"n15\", \"size\": 0.4223788824880737, \"x\": 0.23279088636103018, \"y\": 0.10100142940972912, \"id\": \"n15\"}, {\"label\": \"n16\", \"size\": 0.4961447736935061, \"x\": 0.6356844442644002, \"y\": 0.36483217897008424, \"id\": \"n16\"}, {\"label\": \"n17\", \"size\": 0.9493236701699952, \"x\": 0.2095070307714877, \"y\": 0.26697782204911336, \"id\": \"n17\"}, {\"label\": \"n18\", \"size\": 0.3369109185584776, \"x\": 0.6480353852465935, \"y\": 0.6091310056669882, \"id\": \"n18\"}, {\"label\": \"n19\", \"size\": 0.5035643534061183, \"x\": 0.7291267979503492, \"y\": 0.1634024937619284, \"id\": \"n19\"}, {\"label\": \"n20\", \"size\": 0.6455597950197169, \"x\": 0.9895233506365952, \"y\": 0.6399997598540929, \"id\": \"n20\"}, {\"label\": \"n21\", \"size\": 0.8207999292369959, \"x\": 0.6846142509898746, \"y\": 0.8428519201898096, \"id\": \"n21\"}, {\"label\": \"n22\", \"size\": 0.45236243844726554, \"x\": 0.22904807196410437, \"y\": 0.03210024390403776, \"id\": \"n22\"}, {\"label\": \"n23\", \"size\": 0.9543277714680436, \"x\": 0.26774087597570273, \"y\": 0.21098284358632646, \"id\": \"n23\"}, {\"label\": \"n24\", \"size\": 0.7243509322359041, \"x\": 0.8763676264726689, \"y\": 0.3146778807984779, \"id\": \"n24\"}, {\"label\": \"n25\", \"size\": 0.567081482069919, \"x\": 0.39563190106066426, \"y\": 0.9145475897405435, \"id\": \"n25\"}, {\"label\": \"n26\", \"size\": 0.6490945073305207, \"x\": 0.26488016649805246, \"y\": 0.24662750769398345, \"id\": \"n26\"}, {\"label\": \"n27\", \"size\": 0.9182583068819816, \"x\": 0.26274160852293527, \"y\": 0.5845859902235405, \"id\": \"n27\"}, {\"label\": \"n28\", \"size\": 0.9980300851960882, \"x\": 0.39940050514039727, \"y\": 0.21932075915728333, \"id\": \"n28\"}, {\"label\": \"n29\", \"size\": 0.23769310033978766, \"x\": 0.5095262936764645, \"y\": 0.09090941217379389, \"id\": \"n29\"}, {\"label\": \"n30\", \"size\": 0.8336634914903713, \"x\": 0.10964913035065915, \"y\": 0.62744604170309, \"id\": \"n30\"}, {\"label\": \"n31\", \"size\": 0.5052954292052294, \"x\": 0.42215996679968404, \"y\": 0.06352770615195713, \"id\": \"n31\"}, {\"label\": \"n32\", \"size\": 0.9768627020908947, \"x\": 0.9961213802400968, \"y\": 0.529114345099137, \"id\": \"n32\"}, {\"label\": \"n33\", \"size\": 0.7765774554881557, \"x\": 0.8607797022344981, \"y\": 0.011481021942819636, \"id\": \"n33\"}, {\"label\": \"n34\", \"size\": 0.41346015196203423, \"x\": 0.6817103690265748, \"y\": 0.5369703304087952, \"id\": \"n34\"}, {\"label\": \"n35\", \"size\": 0.547812200535284, \"x\": 0.6409617985798081, \"y\": 0.11155217359587644, \"id\": \"n35\"}, {\"label\": \"n36\", \"size\": 0.9006823523025553, \"x\": 0.45372370632920644, \"y\": 0.9538159275210801, \"id\": \"n36\"}, {\"label\": \"n37\", \"size\": 0.3429215044241051, \"x\": 0.26338905075109076, \"y\": 0.5005861130502983, \"id\": \"n37\"}, {\"label\": \"n38\", \"size\": 0.4387558331589063, \"x\": 0.9126278393448205, \"y\": 0.8705185698367669, \"id\": \"n38\"}, {\"label\": \"n39\", \"size\": 0.3222714148397079, \"x\": 0.6389494948660052, \"y\": 0.6089702114381723, \"id\": \"n39\"}], \"edges\": [{\"source\": \"n5\", \"target\": \"n21\", \"id\": \"e0\"}, {\"source\": \"n35\", \"target\": \"n19\", \"id\": \"e1\"}, {\"source\": \"n31\", \"target\": \"n23\", \"id\": \"e2\"}, {\"source\": \"n38\", \"target\": \"n21\", \"id\": \"e3\"}, {\"source\": \"n36\", \"target\": \"n9\", \"id\": \"e4\"}, {\"source\": \"n39\", \"target\": \"n34\", \"id\": \"e5\"}, {\"source\": \"n15\", \"target\": \"n37\", \"id\": \"e6\"}, {\"source\": \"n9\", \"target\": \"n30\", \"id\": \"e7\"}, {\"source\": \"n14\", \"target\": \"n31\", \"id\": \"e8\"}, {\"source\": \"n5\", \"target\": \"n35\", \"id\": \"e9\"}, {\"source\": \"n2\", \"target\": \"n6\", \"id\": \"e10\"}, {\"source\": \"n9\", \"target\": \"n37\", \"id\": \"e11\"}, {\"source\": \"n5\", \"target\": \"n16\", \"id\": \"e12\"}, {\"source\": \"n38\", \"target\": \"n10\", \"id\": \"e13\"}, {\"source\": \"n38\", \"target\": \"n13\", \"id\": \"e14\"}, {\"source\": \"n30\", \"target\": \"n17\", \"id\": \"e15\"}, {\"source\": \"n38\", \"target\": \"n32\", \"id\": \"e16\"}, {\"source\": \"n7\", \"target\": \"n16\", \"id\": \"e17\"}, {\"source\": \"n6\", \"target\": \"n19\", \"id\": \"e18\"}, {\"source\": \"n11\", \"target\": \"n8\", \"id\": \"e19\"}, {\"source\": \"n39\", \"target\": \"n18\", \"id\": \"e20\"}, {\"source\": \"n29\", \"target\": \"n35\", \"id\": \"e21\"}, {\"source\": \"n22\", \"target\": \"n29\", \"id\": \"e22\"}, {\"source\": \"n3\", \"target\": \"n1\", \"id\": \"e23\"}, {\"source\": \"n21\", \"target\": \"n25\", \"id\": \"e24\"}, {\"source\": \"n14\", \"target\": \"n4\", \"id\": \"e25\"}, {\"source\": \"n37\", \"target\": \"n1\", \"id\": \"e26\"}, {\"source\": \"n39\", \"target\": \"n8\", \"id\": \"e27\"}, {\"source\": \"n13\", \"target\": \"n9\", \"id\": \"e28\"}, {\"source\": \"n16\", \"target\": \"n7\", \"id\": \"e29\"}, {\"source\": \"n20\", \"target\": \"n10\", \"id\": \"e30\"}, {\"source\": \"n30\", \"target\": \"n37\", \"id\": \"e31\"}, {\"source\": \"n7\", \"target\": \"n29\", \"id\": \"e32\"}, {\"source\": \"n3\", \"target\": \"n17\", \"id\": \"e33\"}, {\"source\": \"n10\", \"target\": \"n9\", \"id\": \"e34\"}, {\"source\": \"n21\", \"target\": \"n36\", \"id\": \"e35\"}, {\"source\": \"n13\", \"target\": \"n38\", \"id\": \"e36\"}, {\"source\": \"n9\", \"target\": \"n14\", \"id\": \"e37\"}, {\"source\": \"n30\", \"target\": \"n9\", \"id\": \"e38\"}, {\"source\": \"n9\", \"target\": \"n37\", \"id\": \"e39\"}, {\"source\": \"n30\", \"target\": \"n14\", \"id\": \"e40\"}, {\"source\": \"n17\", \"target\": \"n1\", \"id\": \"e41\"}, {\"source\": \"n27\", \"target\": \"n1\", \"id\": \"e42\"}, {\"source\": \"n37\", \"target\": \"n30\", \"id\": \"e43\"}, {\"source\": \"n9\", \"target\": \"n1\", \"id\": \"e44\"}, {\"source\": \"n36\", \"target\": \"n34\", \"id\": \"e45\"}, {\"source\": \"n31\", \"target\": \"n17\", \"id\": \"e46\"}, {\"source\": \"n23\", \"target\": \"n17\", \"id\": \"e47\"}, {\"source\": \"n31\", \"target\": \"n29\", \"id\": \"e48\"}, {\"source\": \"n35\", \"target\": \"n0\", \"id\": \"e49\"}, {\"source\": \"n23\", \"target\": \"n29\", \"id\": \"e50\"}, {\"source\": \"n36\", \"target\": \"n34\", \"id\": \"e51\"}, {\"source\": \"n22\", \"target\": \"n4\", \"id\": \"e52\"}, {\"source\": \"n18\", \"target\": \"n13\", \"id\": \"e53\"}, {\"source\": \"n4\", \"target\": \"n26\", \"id\": \"e54\"}, {\"source\": \"n27\", \"target\": \"n37\", \"id\": \"e55\"}, {\"source\": \"n1\", \"target\": \"n26\", \"id\": \"e56\"}, {\"source\": \"n25\", \"target\": \"n36\", \"id\": \"e57\"}, {\"source\": \"n28\", \"target\": \"n22\", \"id\": \"e58\"}, {\"source\": \"n39\", \"target\": \"n34\", \"id\": \"e59\"}, {\"source\": \"n32\", \"target\": \"n28\", \"id\": \"e60\"}, {\"source\": \"n26\", \"target\": \"n23\", \"id\": \"e61\"}, {\"source\": \"n19\", \"target\": \"n7\", \"id\": \"e62\"}, {\"source\": \"n14\", \"target\": \"n27\", \"id\": \"e63\"}, {\"source\": \"n1\", \"target\": \"n14\", \"id\": \"e64\"}, {\"source\": \"n0\", \"target\": \"n33\", \"id\": \"e65\"}, {\"source\": \"n26\", \"target\": \"n29\", \"id\": \"e66\"}, {\"source\": \"n11\", \"target\": \"n12\", \"id\": \"e67\"}, {\"source\": \"n22\", \"target\": \"n31\", \"id\": \"e68\"}, {\"source\": \"n1\", \"target\": \"n17\", \"id\": \"e69\"}, {\"source\": \"n39\", \"target\": \"n18\", \"id\": \"e70\"}, {\"source\": \"n22\", \"target\": \"n23\", \"id\": \"e71\"}, {\"source\": \"n27\", \"target\": \"n1\", \"id\": \"e72\"}, {\"source\": \"n2\", \"target\": \"n0\", \"id\": \"e73\"}, {\"source\": \"n21\", \"target\": \"n38\", \"id\": \"e74\"}, {\"source\": \"n37\", \"target\": \"n25\", \"id\": \"e75\"}, {\"source\": \"n2\", \"target\": \"n33\", \"id\": \"e76\"}, {\"source\": \"n38\", \"target\": \"n21\", \"id\": \"e77\"}, {\"source\": \"n25\", \"target\": \"n36\", \"id\": \"e78\"}, {\"source\": \"n32\", \"target\": \"n2\", \"id\": \"e79\"}, {\"source\": \"n17\", \"target\": \"n1\", \"id\": \"e80\"}, {\"source\": \"n38\", \"target\": \"n12\", \"id\": \"e81\"}, {\"source\": \"n12\", \"target\": \"n31\", \"id\": \"e82\"}, {\"source\": \"n24\", \"target\": \"n20\", \"id\": \"e83\"}, {\"source\": \"n21\", \"target\": \"n9\", \"id\": \"e84\"}, {\"source\": \"n18\", \"target\": \"n38\", \"id\": \"e85\"}, {\"source\": \"n23\", \"target\": \"n37\", \"id\": \"e86\"}, {\"source\": \"n18\", \"target\": \"n39\", \"id\": \"e87\"}, {\"source\": \"n35\", \"target\": \"n31\", \"id\": \"e88\"}, {\"source\": \"n22\", \"target\": \"n26\", \"id\": \"e89\"}, {\"source\": \"n16\", \"target\": \"n29\", \"id\": \"e90\"}, {\"source\": \"n26\", \"target\": \"n5\", \"id\": \"e91\"}, {\"source\": \"n38\", \"target\": \"n25\", \"id\": \"e92\"}, {\"source\": \"n9\", \"target\": \"n16\", \"id\": \"e93\"}, {\"source\": \"n15\", \"target\": \"n22\", \"id\": \"e94\"}, {\"source\": \"n22\", \"target\": \"n15\", \"id\": \"e95\"}, {\"source\": \"n22\", \"target\": \"n4\", \"id\": \"e96\"}, {\"source\": \"n2\", \"target\": \"n16\", \"id\": \"e97\"}, {\"source\": \"n37\", \"target\": \"n13\", \"id\": \"e98\"}, {\"source\": \"n37\", \"target\": \"n15\", \"id\": \"e99\"}, {\"source\": \"n24\", \"target\": \"n18\", \"id\": \"e100\"}, {\"source\": \"n16\", \"target\": \"n39\", \"id\": \"e101\"}, {\"source\": \"n17\", \"target\": \"n14\", \"id\": \"e102\"}, {\"source\": \"n27\", \"target\": \"n34\", \"id\": \"e103\"}, {\"source\": \"n25\", \"target\": \"n1\", \"id\": \"e104\"}, {\"source\": \"n13\", \"target\": \"n7\", \"id\": \"e105\"}, {\"source\": \"n25\", \"target\": \"n27\", \"id\": \"e106\"}, {\"source\": \"n27\", \"target\": \"n37\", \"id\": \"e107\"}, {\"source\": \"n29\", \"target\": \"n31\", \"id\": \"e108\"}, {\"source\": \"n37\", \"target\": \"n0\", \"id\": \"e109\"}, {\"source\": \"n12\", \"target\": \"n32\", \"id\": \"e110\"}, {\"source\": \"n19\", \"target\": \"n29\", \"id\": \"e111\"}, {\"source\": \"n21\", \"target\": \"n38\", \"id\": \"e112\"}, {\"source\": \"n23\", \"target\": \"n3\", \"id\": \"e113\"}, {\"source\": \"n29\", \"target\": \"n37\", \"id\": \"e114\"}, {\"source\": \"n0\", \"target\": \"n6\", \"id\": \"e115\"}, {\"source\": \"n1\", \"target\": \"n13\", \"id\": \"e116\"}, {\"source\": \"n28\", \"target\": \"n15\", \"id\": \"e117\"}, {\"source\": \"n17\", \"target\": \"n28\", \"id\": \"e118\"}, {\"source\": \"n3\", \"target\": \"n4\", \"id\": \"e119\"}, {\"source\": \"n20\", \"target\": \"n38\", \"id\": \"e120\"}, {\"source\": \"n32\", \"target\": \"n10\", \"id\": \"e121\"}, {\"source\": \"n9\", \"target\": \"n21\", \"id\": \"e122\"}, {\"source\": \"n20\", \"target\": \"n10\", \"id\": \"e123\"}, {\"source\": \"n31\", \"target\": \"n13\", \"id\": \"e124\"}, {\"source\": \"n31\", \"target\": \"n23\", \"id\": \"e125\"}, {\"source\": \"n36\", \"target\": \"n18\", \"id\": \"e126\"}, {\"source\": \"n39\", \"target\": \"n34\", \"id\": \"e127\"}, {\"source\": \"n13\", \"target\": \"n36\", \"id\": \"e128\"}, {\"source\": \"n2\", \"target\": \"n16\", \"id\": \"e129\"}, {\"source\": \"n20\", \"target\": \"n12\", \"id\": \"e131\"}, {\"source\": \"n35\", \"target\": \"n16\", \"id\": \"e132\"}, {\"source\": \"n39\", \"target\": \"n12\", \"id\": \"e133\"}, {\"source\": \"n1\", \"target\": \"n27\", \"id\": \"e134\"}, {\"source\": \"n18\", \"target\": \"n34\", \"id\": \"e135\"}, {\"source\": \"n23\", \"target\": \"n31\", \"id\": \"e136\"}, {\"source\": \"n17\", \"target\": \"n39\", \"id\": \"e137\"}, {\"source\": \"n26\", \"target\": \"n28\", \"id\": \"e138\"}, {\"source\": \"n1\", \"target\": \"n27\", \"id\": \"e139\"}, {\"source\": \"n12\", \"target\": \"n32\", \"id\": \"e140\"}, {\"source\": \"n13\", \"target\": \"n9\", \"id\": \"e141\"}, {\"source\": \"n38\", \"target\": \"n20\", \"id\": \"e142\"}, {\"source\": \"n16\", \"target\": \"n0\", \"id\": \"e143\"}, {\"source\": \"n38\", \"target\": \"n34\", \"id\": \"e144\"}, {\"source\": \"n20\", \"target\": \"n13\", \"id\": \"e145\"}, {\"source\": \"n11\", \"target\": \"n10\", \"id\": \"e146\"}, {\"source\": \"n34\", \"target\": \"n20\", \"id\": \"e147\"}, {\"source\": \"n5\", \"target\": \"n6\", \"id\": \"e148\"}, {\"source\": \"n9\", \"target\": \"n4\", \"id\": \"e149\"}, {\"source\": \"n36\", \"target\": \"n25\", \"id\": \"e150\"}, {\"source\": \"n12\", \"target\": \"n24\", \"id\": \"e151\"}, {\"source\": \"n10\", \"target\": \"n12\", \"id\": \"e152\"}, {\"source\": \"n28\", \"target\": \"n19\", \"id\": \"e153\"}, {\"source\": \"n10\", \"target\": \"n21\", \"id\": \"e154\"}, {\"source\": \"n12\", \"target\": \"n24\", \"id\": \"e155\"}, {\"source\": \"n3\", \"target\": \"n22\", \"id\": \"e156\"}, {\"source\": \"n30\", \"target\": \"n26\", \"id\": \"e157\"}, {\"source\": \"n16\", \"target\": \"n24\", \"id\": \"e158\"}, {\"source\": \"n36\", \"target\": \"n25\", \"id\": \"e159\"}, {\"source\": \"n32\", \"target\": \"n12\", \"id\": \"e160\"}, {\"source\": \"n37\", \"target\": \"n5\", \"id\": \"e161\"}, {\"source\": \"n21\", \"target\": \"n18\", \"id\": \"e162\"}, {\"source\": \"n32\", \"target\": \"n11\", \"id\": \"e163\"}, {\"source\": \"n39\", \"target\": \"n34\", \"id\": \"e164\"}, {\"source\": \"n30\", \"target\": \"n9\", \"id\": \"e165\"}, {\"source\": \"n1\", \"target\": \"n9\", \"id\": \"e166\"}, {\"source\": \"n3\", \"target\": \"n4\", \"id\": \"e167\"}, {\"source\": \"n21\", \"target\": \"n25\", \"id\": \"e168\"}, {\"source\": \"n27\", \"target\": \"n36\", \"id\": \"e169\"}, {\"source\": \"n6\", \"target\": \"n8\", \"id\": \"e170\"}, {\"source\": \"n11\", \"target\": \"n8\", \"id\": \"e171\"}, {\"source\": \"n25\", \"target\": \"n28\", \"id\": \"e172\"}, {\"source\": \"n12\", \"target\": \"n34\", \"id\": \"e173\"}, {\"source\": \"n8\", \"target\": \"n16\", \"id\": \"e174\"}, {\"source\": \"n25\", \"target\": \"n37\", \"id\": \"e175\"}, {\"source\": \"n10\", \"target\": \"n38\", \"id\": \"e176\"}, {\"source\": \"n1\", \"target\": \"n27\", \"id\": \"e177\"}, {\"source\": \"n39\", \"target\": \"n32\", \"id\": \"e178\"}, {\"source\": \"n12\", \"target\": \"n34\", \"id\": \"e179\"}, {\"source\": \"n23\", \"target\": \"n14\", \"id\": \"e180\"}, {\"source\": \"n16\", \"target\": \"n11\", \"id\": \"e181\"}, {\"source\": \"n36\", \"target\": \"n38\", \"id\": \"e182\"}, {\"source\": \"n15\", \"target\": \"n0\", \"id\": \"e183\"}, {\"source\": \"n1\", \"target\": \"n9\", \"id\": \"e184\"}, {\"source\": \"n39\", \"target\": \"n7\", \"id\": \"e185\"}, {\"source\": \"n4\", \"target\": \"n17\", \"id\": \"e186\"}, {\"source\": \"n3\", \"target\": \"n7\", \"id\": \"e187\"}, {\"source\": \"n30\", \"target\": \"n37\", \"id\": \"e188\"}, {\"source\": \"n19\", \"target\": \"n29\", \"id\": \"e189\"}, {\"source\": \"n25\", \"target\": \"n1\", \"id\": \"e190\"}, {\"source\": \"n12\", \"target\": \"n10\", \"id\": \"e192\"}, {\"source\": \"n18\", \"target\": \"n28\", \"id\": \"e193\"}, {\"source\": \"n13\", \"target\": \"n21\", \"id\": \"e194\"}, {\"source\": \"n30\", \"target\": \"n27\", \"id\": \"e195\"}, {\"source\": \"n16\", \"target\": \"n12\", \"id\": \"e196\"}, {\"source\": \"n8\", \"target\": \"n25\", \"id\": \"e197\"}, {\"source\": \"n11\", \"target\": \"n34\", \"id\": \"e198\"}, {\"source\": \"n37\", \"target\": \"n15\", \"id\": \"e199\"}]} ;\n",
       "\n",
       "s = new sigma({graph: g, container: 'graph-div', settings: { defaultNodeColor: '#ec5148'} });\n",
       "\n",
       "s.graph.nodes().forEach(function(n) {\n",
       "  n.originalColor = n.color;\n",
       "});\n",
       "s.graph.edges().forEach(function(e) {\n",
       "  e.originalColor = e.color;\n",
       "});\n",
       "\n",
       "s.bind('clickNode', function(e) {\n",
       "  var nodeId = e.data.node.id,\n",
       "      toKeep = s.graph.neighbors(nodeId);\n",
       "  toKeep[nodeId] = e.data.node;\n",
       "\n",
       "  s.graph.nodes().forEach(function(n) {\n",
       "    if (toKeep[n.id])\n",
       "      n.color = n.originalColor;\n",
       "    else\n",
       "      n.color = '#eee';\n",
       "  });\n",
       "\n",
       "  s.graph.edges().forEach(function(e) {\n",
       "    if (toKeep[e.source] && toKeep[e.target])\n",
       "      e.color = e.originalColor;\n",
       "    else\n",
       "      e.color = '#eee';\n",
       "  });\n",
       "\n",
       "  s.refresh();\n",
       "});\n",
       "\n",
       "s.bind('clickStage', function(e) {\n",
       "  s.graph.nodes().forEach(function(n) {\n",
       "    n.color = n.originalColor;\n",
       "  });\n",
       "\n",
       "  s.graph.edges().forEach(function(e) {\n",
       "    e.color = e.originalColor;\n",
       "  });\n",
       "\n",
       "  s.refresh();\n",
       "});\n",
       " </script>\n"
      ],
      "text/plain": [
       "<IPython.core.display.HTML object>"
      ]
     },
     "execution_count": 6,
     "metadata": {},
     "output_type": "execute_result"
    }
   ],
   "source": [
    "js_text_template = Template(open('js/sigma-graph.js','r').read())\n",
    "\n",
    "js_text = js_text_template.substitute({'graph_data': json.dumps(graph_data),\n",
    "                                       'container': 'graph-div'})\n",
    "\n",
    "html_template = Template('''\n",
    "<div id=\"graph-div\" style=\"height:400px\"></div>\n",
    "<script> $js_text </script>\n",
    "''')\n",
    "HTML(html_template.substitute({'js_text': js_text}))"
   ]
  },
  {
   "cell_type": "markdown",
   "metadata": {
    "collapsed": true
   },
   "source": [
    "Note that you can zoom and pan (click and move) to navigate the graph. Also note that if you click on a node, it highlights it and the nodes to which it is directly connected, along with all of the edges within this neighborhood."
   ]
  }
 ],
 "metadata": {
  "kernelspec": {
   "display_name": "Python [default]",
   "language": "python",
   "name": "python3"
  },
  "language_info": {
   "codemirror_mode": {
    "name": "ipython",
    "version": 3
   },
   "file_extension": ".py",
   "mimetype": "text/x-python",
   "name": "python",
   "nbconvert_exporter": "python",
   "pygments_lexer": "ipython3",
   "version": "3.5.2"
  },
  "toc": {
   "colors": {
    "hover_highlight": "#DAA520",
    "running_highlight": "#FF0000",
    "selected_highlight": "#FFD700"
   },
   "moveMenuLeft": true,
   "nav_menu": {
    "height": "85px",
    "width": "252px"
   },
   "navigate_menu": true,
   "number_sections": true,
   "sideBar": true,
   "threshold": 4,
   "toc_cell": false,
   "toc_section_display": "block",
   "toc_window_display": true
  }
 },
 "nbformat": 4,
 "nbformat_minor": 0
}

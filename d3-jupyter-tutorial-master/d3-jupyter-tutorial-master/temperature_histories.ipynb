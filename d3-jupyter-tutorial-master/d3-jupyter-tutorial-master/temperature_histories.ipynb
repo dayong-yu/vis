{
 "cells": [
  {
   "cell_type": "markdown",
   "metadata": {},
   "source": [
    "# Monthly Temperature Histories: Example D3 in Jupyter"
   ]
  },
  {
   "cell_type": "markdown",
   "metadata": {},
   "source": [
    "This example uses data from the [Daily Global Weather Measurements](https://aws.amazon.com/datasets/daily-global-weather-measurements-1929-2009-ncdc-gsod/) data set, originally collected by the National Climactic Data Center and available as a public data set on Amazon Web Services (AWS). Only selected weather stations are shown. See [this blog post](http://briancoffey.ca/blogpost5.html) for a description of the data wrangling to produce the smaller csv files used in this example.\n",
    "\n",
    "This example uses D3 for an integrated multi-part visualization with interactivity and animation. "
   ]
  },
  {
   "cell_type": "markdown",
   "metadata": {},
   "source": [
    "#### Notebook Config"
   ]
  },
  {
   "cell_type": "code",
   "execution_count": 1,
   "metadata": {
    "collapsed": true
   },
   "outputs": [],
   "source": [
    "from IPython.core.display import display, HTML\n",
    "from string import Template\n",
    "import pandas as pd\n",
    "import json"
   ]
  },
  {
   "cell_type": "code",
   "execution_count": 2,
   "metadata": {},
   "outputs": [
    {
     "data": {
      "text/html": [
       "<script src=\"lib/d3/d3.min.js\"></script>"
      ],
      "text/plain": [
       "<IPython.core.display.HTML object>"
      ]
     },
     "execution_count": 2,
     "metadata": {},
     "output_type": "execute_result"
    }
   ],
   "source": [
    "HTML('<script src=\"lib/d3/d3.min.js\"></script>')"
   ]
  },
  {
   "cell_type": "markdown",
   "metadata": {},
   "source": [
    "#### Data Reading and Formatting"
   ]
  },
  {
   "cell_type": "code",
   "execution_count": 3,
   "metadata": {
    "collapsed": true
   },
   "outputs": [],
   "source": [
    "worldmap_data = json.loads(open('data/worldmap.json','r').read())"
   ]
  },
  {
   "cell_type": "code",
   "execution_count": 4,
   "metadata": {},
   "outputs": [
    {
     "data": {
      "text/html": [
       "<div>\n",
       "<style>\n",
       "    .dataframe thead tr:only-child th {\n",
       "        text-align: right;\n",
       "    }\n",
       "\n",
       "    .dataframe thead th {\n",
       "        text-align: left;\n",
       "    }\n",
       "\n",
       "    .dataframe tbody tr th {\n",
       "        vertical-align: top;\n",
       "    }\n",
       "</style>\n",
       "<table border=\"1\" class=\"dataframe\">\n",
       "  <thead>\n",
       "    <tr style=\"text-align: right;\">\n",
       "      <th></th>\n",
       "      <th>ID</th>\n",
       "      <th>country_name</th>\n",
       "      <th>lat</th>\n",
       "      <th>lon</th>\n",
       "      <th>station_name</th>\n",
       "    </tr>\n",
       "  </thead>\n",
       "  <tbody>\n",
       "    <tr>\n",
       "      <th>0</th>\n",
       "      <td>10620</td>\n",
       "      <td>SVALBARD</td>\n",
       "      <td>76.500</td>\n",
       "      <td>25.067</td>\n",
       "      <td>HOPEN</td>\n",
       "    </tr>\n",
       "    <tr>\n",
       "      <th>1</th>\n",
       "      <td>13840</td>\n",
       "      <td>NORWAY</td>\n",
       "      <td>60.200</td>\n",
       "      <td>11.083</td>\n",
       "      <td>OSLO/GARDERMOEN</td>\n",
       "    </tr>\n",
       "    <tr>\n",
       "      <th>2</th>\n",
       "      <td>26800</td>\n",
       "      <td>SWEDEN</td>\n",
       "      <td>56.917</td>\n",
       "      <td>18.150</td>\n",
       "      <td>HOBURG</td>\n",
       "    </tr>\n",
       "    <tr>\n",
       "      <th>3</th>\n",
       "      <td>29740</td>\n",
       "      <td>FINLAND</td>\n",
       "      <td>60.317</td>\n",
       "      <td>24.967</td>\n",
       "      <td>HELSINKI-VANTAA</td>\n",
       "    </tr>\n",
       "    <tr>\n",
       "      <th>4</th>\n",
       "      <td>31350</td>\n",
       "      <td>UNITED KINGDOM</td>\n",
       "      <td>55.500</td>\n",
       "      <td>-4.583</td>\n",
       "      <td>PRESTWICK(CIV/NAVY)</td>\n",
       "    </tr>\n",
       "  </tbody>\n",
       "</table>\n",
       "</div>"
      ],
      "text/plain": [
       "      ID    country_name     lat     lon         station_name\n",
       "0  10620        SVALBARD  76.500  25.067                HOPEN\n",
       "1  13840          NORWAY  60.200  11.083      OSLO/GARDERMOEN\n",
       "2  26800          SWEDEN  56.917  18.150               HOBURG\n",
       "3  29740         FINLAND  60.317  24.967      HELSINKI-VANTAA\n",
       "4  31350  UNITED KINGDOM  55.500  -4.583  PRESTWICK(CIV/NAVY)"
      ]
     },
     "execution_count": 4,
     "metadata": {},
     "output_type": "execute_result"
    }
   ],
   "source": [
    "sites_data_stations = pd.read_csv('data/stations.csv')\n",
    "sites_data_stations.head()"
   ]
  },
  {
   "cell_type": "code",
   "execution_count": 5,
   "metadata": {},
   "outputs": [
    {
     "data": {
      "text/html": [
       "<div>\n",
       "<style>\n",
       "    .dataframe thead tr:only-child th {\n",
       "        text-align: right;\n",
       "    }\n",
       "\n",
       "    .dataframe thead th {\n",
       "        text-align: left;\n",
       "    }\n",
       "\n",
       "    .dataframe tbody tr th {\n",
       "        vertical-align: top;\n",
       "    }\n",
       "</style>\n",
       "<table border=\"1\" class=\"dataframe\">\n",
       "  <thead>\n",
       "    <tr style=\"text-align: right;\">\n",
       "      <th></th>\n",
       "      <th>ID</th>\n",
       "      <th>ave</th>\n",
       "      <th>max</th>\n",
       "      <th>min</th>\n",
       "      <th>month</th>\n",
       "    </tr>\n",
       "  </thead>\n",
       "  <tbody>\n",
       "    <tr>\n",
       "      <th>0</th>\n",
       "      <td>10620</td>\n",
       "      <td>28.10000</td>\n",
       "      <td>9999.9</td>\n",
       "      <td>17.6</td>\n",
       "      <td>1977-10</td>\n",
       "    </tr>\n",
       "    <tr>\n",
       "      <th>1</th>\n",
       "      <td>10620</td>\n",
       "      <td>36.25806</td>\n",
       "      <td>45.5</td>\n",
       "      <td>29.5</td>\n",
       "      <td>1983-8</td>\n",
       "    </tr>\n",
       "    <tr>\n",
       "      <th>2</th>\n",
       "      <td>10620</td>\n",
       "      <td>19.66333</td>\n",
       "      <td>38.8</td>\n",
       "      <td>-9.0</td>\n",
       "      <td>1986-11</td>\n",
       "    </tr>\n",
       "    <tr>\n",
       "      <th>3</th>\n",
       "      <td>10620</td>\n",
       "      <td>28.89355</td>\n",
       "      <td>36.5</td>\n",
       "      <td>17.4</td>\n",
       "      <td>1986-10</td>\n",
       "    </tr>\n",
       "    <tr>\n",
       "      <th>4</th>\n",
       "      <td>10620</td>\n",
       "      <td>9.21290</td>\n",
       "      <td>34.7</td>\n",
       "      <td>-16.2</td>\n",
       "      <td>1986-12</td>\n",
       "    </tr>\n",
       "  </tbody>\n",
       "</table>\n",
       "</div>"
      ],
      "text/plain": [
       "      ID       ave     max   min    month\n",
       "0  10620  28.10000  9999.9  17.6  1977-10\n",
       "1  10620  36.25806    45.5  29.5   1983-8\n",
       "2  10620  19.66333    38.8  -9.0  1986-11\n",
       "3  10620  28.89355    36.5  17.4  1986-10\n",
       "4  10620   9.21290    34.7 -16.2  1986-12"
      ]
     },
     "execution_count": 5,
     "metadata": {},
     "output_type": "execute_result"
    }
   ],
   "source": [
    "sites_data_temps = pd.read_csv('data/monthly_temps.csv')\n",
    "sites_data_temps.head()"
   ]
  },
  {
   "cell_type": "code",
   "execution_count": 6,
   "metadata": {},
   "outputs": [],
   "source": [
    "sites_data_temps = sites_data_temps.sort_values(by='ID')"
   ]
  },
  {
   "cell_type": "code",
   "execution_count": 7,
   "metadata": {},
   "outputs": [
    {
     "data": {
      "text/html": [
       "<div>\n",
       "<style>\n",
       "    .dataframe thead tr:only-child th {\n",
       "        text-align: right;\n",
       "    }\n",
       "\n",
       "    .dataframe thead th {\n",
       "        text-align: left;\n",
       "    }\n",
       "\n",
       "    .dataframe tbody tr th {\n",
       "        vertical-align: top;\n",
       "    }\n",
       "</style>\n",
       "<table border=\"1\" class=\"dataframe\">\n",
       "  <thead>\n",
       "    <tr style=\"text-align: right;\">\n",
       "      <th></th>\n",
       "      <th>ID</th>\n",
       "      <th>temps</th>\n",
       "    </tr>\n",
       "  </thead>\n",
       "  <tbody>\n",
       "    <tr>\n",
       "      <th>0</th>\n",
       "      <td>10620</td>\n",
       "      <td>{'1977-10': {'ave': 28.1, 'max': 9999.9, 'min'...</td>\n",
       "    </tr>\n",
       "    <tr>\n",
       "      <th>1</th>\n",
       "      <td>13840</td>\n",
       "      <td>{'2002-7': {'ave': 61.29355, 'max': 78.3, 'min...</td>\n",
       "    </tr>\n",
       "    <tr>\n",
       "      <th>2</th>\n",
       "      <td>26800</td>\n",
       "      <td>{'1981-5': {'ave': 50.63548, 'max': 73.4, 'min...</td>\n",
       "    </tr>\n",
       "    <tr>\n",
       "      <th>3</th>\n",
       "      <td>29740</td>\n",
       "      <td>{'1981-3': {'ave': 21.51935, 'max': 42.8, 'min...</td>\n",
       "    </tr>\n",
       "    <tr>\n",
       "      <th>4</th>\n",
       "      <td>31350</td>\n",
       "      <td>{'1981-2': {'ave': 37.99286, 'max': 51.8, 'min...</td>\n",
       "    </tr>\n",
       "  </tbody>\n",
       "</table>\n",
       "</div>"
      ],
      "text/plain": [
       "      ID                                              temps\n",
       "0  10620  {'1977-10': {'ave': 28.1, 'max': 9999.9, 'min'...\n",
       "1  13840  {'2002-7': {'ave': 61.29355, 'max': 78.3, 'min...\n",
       "2  26800  {'1981-5': {'ave': 50.63548, 'max': 73.4, 'min...\n",
       "3  29740  {'1981-3': {'ave': 21.51935, 'max': 42.8, 'min...\n",
       "4  31350  {'1981-2': {'ave': 37.99286, 'max': 51.8, 'min..."
      ]
     },
     "execution_count": 7,
     "metadata": {},
     "output_type": "execute_result"
    }
   ],
   "source": [
    "temps_by_ID = []\n",
    "previous_ID = -1\n",
    "collected_temps = {}\n",
    "for i,row in sites_data_temps.iterrows():\n",
    "    if (row['ID'] != previous_ID) and (previous_ID != -1):\n",
    "        temps_by_ID.append(collected_temps)\n",
    "        collected_temps = {}\n",
    "    collected_temps[row['month']] = {'ave': row['ave'], \n",
    "                                     'max': row['max'], \n",
    "                                     'min': row['min']}\n",
    "    previous_ID = row['ID']\n",
    "temps_by_ID.append(collected_temps)\n",
    "site_data_temps_2 = pd.DataFrame({'ID': sites_data_temps['ID'].unique(), \n",
    "                                  'temps': temps_by_ID})\n",
    "site_data_temps_2.head()"
   ]
  },
  {
   "cell_type": "code",
   "execution_count": 8,
   "metadata": {},
   "outputs": [
    {
     "data": {
      "text/html": [
       "<div>\n",
       "<style>\n",
       "    .dataframe thead tr:only-child th {\n",
       "        text-align: right;\n",
       "    }\n",
       "\n",
       "    .dataframe thead th {\n",
       "        text-align: left;\n",
       "    }\n",
       "\n",
       "    .dataframe tbody tr th {\n",
       "        vertical-align: top;\n",
       "    }\n",
       "</style>\n",
       "<table border=\"1\" class=\"dataframe\">\n",
       "  <thead>\n",
       "    <tr style=\"text-align: right;\">\n",
       "      <th></th>\n",
       "      <th>ID</th>\n",
       "      <th>country_name</th>\n",
       "      <th>lat</th>\n",
       "      <th>lon</th>\n",
       "      <th>station_name</th>\n",
       "      <th>temps</th>\n",
       "    </tr>\n",
       "  </thead>\n",
       "  <tbody>\n",
       "    <tr>\n",
       "      <th>0</th>\n",
       "      <td>10620</td>\n",
       "      <td>SVALBARD</td>\n",
       "      <td>76.500</td>\n",
       "      <td>25.067</td>\n",
       "      <td>HOPEN</td>\n",
       "      <td>{'1977-10': {'ave': 28.1, 'max': 9999.9, 'min'...</td>\n",
       "    </tr>\n",
       "    <tr>\n",
       "      <th>1</th>\n",
       "      <td>13840</td>\n",
       "      <td>NORWAY</td>\n",
       "      <td>60.200</td>\n",
       "      <td>11.083</td>\n",
       "      <td>OSLO/GARDERMOEN</td>\n",
       "      <td>{'2002-7': {'ave': 61.29355, 'max': 78.3, 'min...</td>\n",
       "    </tr>\n",
       "    <tr>\n",
       "      <th>2</th>\n",
       "      <td>26800</td>\n",
       "      <td>SWEDEN</td>\n",
       "      <td>56.917</td>\n",
       "      <td>18.150</td>\n",
       "      <td>HOBURG</td>\n",
       "      <td>{'1981-5': {'ave': 50.63548, 'max': 73.4, 'min...</td>\n",
       "    </tr>\n",
       "    <tr>\n",
       "      <th>3</th>\n",
       "      <td>29740</td>\n",
       "      <td>FINLAND</td>\n",
       "      <td>60.317</td>\n",
       "      <td>24.967</td>\n",
       "      <td>HELSINKI-VANTAA</td>\n",
       "      <td>{'1981-3': {'ave': 21.51935, 'max': 42.8, 'min...</td>\n",
       "    </tr>\n",
       "    <tr>\n",
       "      <th>4</th>\n",
       "      <td>31350</td>\n",
       "      <td>UNITED KINGDOM</td>\n",
       "      <td>55.500</td>\n",
       "      <td>-4.583</td>\n",
       "      <td>PRESTWICK(CIV/NAVY)</td>\n",
       "      <td>{'1981-2': {'ave': 37.99286, 'max': 51.8, 'min...</td>\n",
       "    </tr>\n",
       "  </tbody>\n",
       "</table>\n",
       "</div>"
      ],
      "text/plain": [
       "      ID    country_name     lat     lon         station_name  \\\n",
       "0  10620        SVALBARD  76.500  25.067                HOPEN   \n",
       "1  13840          NORWAY  60.200  11.083      OSLO/GARDERMOEN   \n",
       "2  26800          SWEDEN  56.917  18.150               HOBURG   \n",
       "3  29740         FINLAND  60.317  24.967      HELSINKI-VANTAA   \n",
       "4  31350  UNITED KINGDOM  55.500  -4.583  PRESTWICK(CIV/NAVY)   \n",
       "\n",
       "                                               temps  \n",
       "0  {'1977-10': {'ave': 28.1, 'max': 9999.9, 'min'...  \n",
       "1  {'2002-7': {'ave': 61.29355, 'max': 78.3, 'min...  \n",
       "2  {'1981-5': {'ave': 50.63548, 'max': 73.4, 'min...  \n",
       "3  {'1981-3': {'ave': 21.51935, 'max': 42.8, 'min...  \n",
       "4  {'1981-2': {'ave': 37.99286, 'max': 51.8, 'min...  "
      ]
     },
     "execution_count": 8,
     "metadata": {},
     "output_type": "execute_result"
    }
   ],
   "source": [
    "sites_data = pd.merge(sites_data_stations, site_data_temps_2, on='ID')\n",
    "sites_data.head()"
   ]
  },
  {
   "cell_type": "code",
   "execution_count": 9,
   "metadata": {
    "collapsed": true
   },
   "outputs": [],
   "source": [
    "sites_data_dict = sites_data.to_dict(orient='records')"
   ]
  },
  {
   "cell_type": "markdown",
   "metadata": {},
   "source": [
    "#### Visualization"
   ]
  },
  {
   "cell_type": "code",
   "execution_count": 10,
   "metadata": {
    "collapsed": true
   },
   "outputs": [],
   "source": [
    "html_template = Template('''\n",
    "<style> $css_text </style>\n",
    "<div><svg width=\"700\" height=\"500px\" id=\"graph-svg\"></svg></div>\n",
    "<script> $js_text </script>\n",
    "''')"
   ]
  },
  {
   "cell_type": "code",
   "execution_count": 11,
   "metadata": {
    "collapsed": true
   },
   "outputs": [],
   "source": [
    "css_text = open('css/temperature_histories.css','r').read()"
   ]
  },
  {
   "cell_type": "code",
   "execution_count": 12,
   "metadata": {
    "collapsed": true
   },
   "outputs": [],
   "source": [
    "js_text_template = Template(open('js/temperature_histories.js','r').read())\n",
    "js_text = js_text_template.safe_substitute({'worldmapdata': json.dumps(worldmap_data), \n",
    "                                            'sitesdata': json.dumps(sites_data_dict) })"
   ]
  },
  {
   "cell_type": "code",
   "execution_count": 13,
   "metadata": {
    "scrolled": true
   },
   "outputs": [
    {
     "name": "stderr",
     "output_type": "stream",
     "text": [
      "IOPub data rate exceeded.\n",
      "The notebook server will temporarily stop sending output\n",
      "to the client in order to avoid crashing it.\n",
      "To change this limit, set the config variable\n",
      "`--NotebookApp.iopub_data_rate_limit`.\n"
     ]
    }
   ],
   "source": [
    "display(HTML(html_template.substitute({'css_text': css_text, 'js_text': js_text})))"
   ]
  },
  {
   "cell_type": "code",
   "execution_count": null,
   "metadata": {
    "collapsed": true
   },
   "outputs": [],
   "source": []
  }
 ],
 "metadata": {
  "kernelspec": {
   "display_name": "Python 3",
   "language": "python",
   "name": "python3"
  },
  "language_info": {
   "codemirror_mode": {
    "name": "ipython",
    "version": 3
   },
   "file_extension": ".py",
   "mimetype": "text/x-python",
   "name": "python",
   "nbconvert_exporter": "python",
   "pygments_lexer": "ipython3",
   "version": "3.6.1"
  },
  "toc": {
   "colors": {
    "hover_highlight": "#DAA520",
    "running_highlight": "#FF0000",
    "selected_highlight": "#FFD700"
   },
   "moveMenuLeft": true,
   "nav_menu": {
    "height": "100px",
    "width": "252px"
   },
   "navigate_menu": true,
   "number_sections": true,
   "sideBar": true,
   "threshold": 4,
   "toc_cell": false,
   "toc_section_display": "block",
   "toc_window_display": true
  }
 },
 "nbformat": 4,
 "nbformat_minor": 1
}
